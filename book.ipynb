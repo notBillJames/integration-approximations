{
 "cells": [
  {
   "cell_type": "code",
   "execution_count": null,
   "source": [
    "import approximations as approx\n",
    "import math"
   ],
   "outputs": [],
   "metadata": {}
  },
  {
   "cell_type": "markdown",
   "source": [
    "# Define Information\n",
    "Define a function, or create a table of values using the dictionary below.\n",
    "\n",
    "Then set the values of `a`, `b`, and `n` accordingly."
   ],
   "metadata": {}
  },
  {
   "cell_type": "code",
   "execution_count": null,
   "source": [
    "# Define a function or dictionary called f below\n",
    "def f(x):\n",
    "    return math.e ** x\n",
    "\n",
    "\n",
    "a = 0\n",
    "b = 1\n",
    "n = 26"
   ],
   "outputs": [],
   "metadata": {}
  },
  {
   "cell_type": "markdown",
   "source": [
    "# Approximations\n",
    "\n",
    "After you have defined the information correctly above, run the cell below and the approximations will be calculated."
   ],
   "metadata": {}
  },
  {
   "cell_type": "code",
   "execution_count": null,
   "source": [
    "# Left Endpoint\n",
    "left = approx.left(f, a, b, n)\n",
    "print(f\"Left Endpoint: {round(left, 6)}\")\n",
    "\n",
    "# Right Endpoint\n",
    "right = approx.right(f, a, b, n)\n",
    "print(f\"Right Endpoint: {round(right, 6)}\")\n",
    "\n",
    "# Midpoint\n",
    "midpoint = approx.midpoint(f, a, b, n)\n",
    "print(f\"Midpoint: {round(midpoint, 6)}\")\n",
    "\n",
    "# Trapezoidal\n",
    "trapezoidal = approx.trapezoidal(f, a, b, n)\n",
    "print(f\"Trapezoidal: {round(trapezoidal, 6)}\")\n",
    "\n",
    "# Simpson's\n",
    "simpsons = approx.Simpson(f, a, b, n)\n",
    "print(f\"Simpson's: : {round(simpsons, 6)}\")"
   ],
   "outputs": [],
   "metadata": {}
  }
 ],
 "metadata": {
  "orig_nbformat": 4,
  "language_info": {
   "name": "python",
   "version": "3.9.7",
   "mimetype": "text/x-python",
   "codemirror_mode": {
    "name": "ipython",
    "version": 3
   },
   "pygments_lexer": "ipython3",
   "nbconvert_exporter": "python",
   "file_extension": ".py"
  },
  "kernelspec": {
   "name": "python3",
   "display_name": "Python 3.9.7 64-bit ('approximation_venv': venv)"
  },
  "interpreter": {
   "hash": "92385742bed205252cea9611f1e490d9daffe36fec708cac971e914d54cfc568"
  }
 },
 "nbformat": 4,
 "nbformat_minor": 2
}